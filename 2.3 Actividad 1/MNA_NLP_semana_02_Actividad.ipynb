{
  "nbformat": 4,
  "nbformat_minor": 0,
  "metadata": {
    "colab": {
      "provenance": [],
      "collapsed_sections": [
        "759SG4TyfbUn",
        "Zj-h4drXD-X9",
        "BY6yifxscfrx",
        "k_ewoagic5jc",
        "70StdqAZa9E9"
      ]
    },
    "kernelspec": {
      "name": "python3",
      "display_name": "Python 3"
    },
    "language_info": {
      "name": "python"
    }
  },
  "cells": [
    {
      "cell_type": "markdown",
      "source": [],
      "metadata": {
        "id": "KlBCClnau5-6"
      }
    },
    {
      "cell_type": "markdown",
      "source": [
        "![Evidence 3](https://i.imgur.com/mu6ZuGT.jpg)\n",
        "\n",
        "#**Maestría en Inteligencia Artificial Aplicada**\n",
        "##**Curso: Procesamiento de Lenguaje Natural (NLP)**\n",
        "###Tecnológico de Monterrey\n",
        "###Prof Luis Eduardo Falcón Morales\n",
        "\n",
        "## **Adtividad de la Semana 02**\n",
        "###**Introducción al procesamiento de texto.**\n",
        "\n",
        "##**Julio Baltazar Colín: A01794476**"
      ],
      "metadata": {
        "id": "759SG4TyfbUn"
      }
    },
    {
      "cell_type": "markdown",
      "source": [
        "En esta actividad deberás utilizar los datos del siguiente archivo que se encuentra en Canvas:\n",
        "\n",
        "MNA_NLP_semana_02_Actividad_datos.txt\n",
        "\n",
        "El archivo contiene comentarios en inglés sobre servicios de comida de la página de Yelp: https://www.yelp.com/ .\n",
        "\n",
        "Son mil comentarios y forman parte del conjunto de datos que se encuentra en el Machine Learning Repository de la UCI, llamado \"Sentiment Labelled Sentences\": https://archive.ics.uci.edu/ml/datasets/Sentiment+Labelled+Sentences#\n"
      ],
      "metadata": {
        "id": "6ue1YAKx3XDo"
      }
    },
    {
      "cell_type": "markdown",
      "source": [
        "#**Parte 1. Cargamos los datos.**   "
      ],
      "metadata": {
        "id": "Zj-h4drXD-X9"
      }
    },
    {
      "cell_type": "markdown",
      "source": [
        "Cargar los datos del archivo indicado y obtener una lista de longitud de 1000 strings/comentarios.\n",
        "\n",
        "Por el momento solamente requerimos las bibliotecas de Numpy y re, para el manejo de los arreglos y de las expresiones regulares en Python.\n",
        "\n",
        "En particular, no necesitarás en esta actividad la biblioteca de Pandas.\n",
        "\n",
        "###**NOTA: En esta actividad no debes importar nada más, con estas dos bibliotecas será *suficiente*.**"
      ],
      "metadata": {
        "id": "BY6yifxscfrx"
      }
    },
    {
      "cell_type": "code",
      "source": [
        "import numpy as np    # importamos Numpy para el manejo de los arreglos.\n",
        "import re             # importamos re para el manejo de las expresiones regulares."
      ],
      "metadata": {
        "id": "OJ26dAfhdFnf"
      },
      "execution_count": 186,
      "outputs": []
    },
    {
      "cell_type": "code",
      "source": [
        "import requests\n",
        "url = 'https://raw.githubusercontent.com/Julio21-ai/NLP-GPO10/main/2.3%20Actividad%201/MNA_NLP_semana_02_Actividad_datos.txt'\n",
        "\n",
        "response = requests.get(url)\n",
        "\n",
        "if response.status_code == 200: #200 = OK\n",
        "    docs = response.text.splitlines()  ## separamos cada comentario por líneas\n",
        "else:\n",
        "    print(\"Error al obtener el archivo:\", response.status_code)"
      ],
      "metadata": {
        "id": "zd5TQsvBGSka"
      },
      "execution_count": 187,
      "outputs": []
    },
    {
      "cell_type": "code",
      "source": [
        "type(docs) == list   # Verifica que tu variable \"docs\" es una lista"
      ],
      "metadata": {
        "id": "L6WzrSrodG-Y",
        "outputId": "51e355f2-7600-4211-d1a5-234be9b82377",
        "colab": {
          "base_uri": "https://localhost:8080/"
        }
      },
      "execution_count": 188,
      "outputs": [
        {
          "output_type": "execute_result",
          "data": {
            "text/plain": [
              "True"
            ]
          },
          "metadata": {},
          "execution_count": 188
        }
      ]
    },
    {
      "cell_type": "code",
      "source": [
        "len(docs)==1000  # verifica que la longitud de \"docs\" es de mil comentarios."
      ],
      "metadata": {
        "id": "QIK1u9WS2FtS",
        "outputId": "6da54764-4ca4-4c4e-d67b-661bb86e6256",
        "colab": {
          "base_uri": "https://localhost:8080/"
        }
      },
      "execution_count": 189,
      "outputs": [
        {
          "output_type": "execute_result",
          "data": {
            "text/plain": [
              "True"
            ]
          },
          "metadata": {},
          "execution_count": 189
        }
      ]
    },
    {
      "cell_type": "code",
      "source": [
        "docs[0:10]     # observa algunos de los primeros comentarios"
      ],
      "metadata": {
        "id": "9AMLIfQvJqNZ",
        "colab": {
          "base_uri": "https://localhost:8080/"
        },
        "outputId": "5db929e7-4f55-4d1e-b98c-db2e6a63160c"
      },
      "execution_count": 190,
      "outputs": [
        {
          "output_type": "execute_result",
          "data": {
            "text/plain": [
              "['Wow... Loved this place.',\n",
              " 'Crust is not good.',\n",
              " 'Not tasty and the texture was just nasty.',\n",
              " 'Stopped by during the late May bank holiday off Rick Steve recommendation and loved it.',\n",
              " 'The selection on the menu was great and so were the prices.',\n",
              " 'Now I am getting angry and I want my damn pho.',\n",
              " \"Honeslty it didn't taste THAT fresh.)\",\n",
              " 'The potatoes were like rubber and you could tell they had been made up ahead of time being kept under a warmer.',\n",
              " 'The fries were great too.',\n",
              " 'A great touch.']"
            ]
          },
          "metadata": {},
          "execution_count": 190
        }
      ]
    },
    {
      "cell_type": "markdown",
      "source": [
        "#**Parte 2: sección de preguntas (regex).**   \n"
      ],
      "metadata": {
        "id": "k_ewoagic5jc"
      }
    },
    {
      "cell_type": "markdown",
      "source": [
        "##**Instrucciones:**\n",
        "\n",
        "###**A continuación deberás contestar cada una de las preguntas que te piden usando expresiones regulares (regex).**\n",
        "\n",
        "###**Por el momento no hay restricción en cuanto al número de líneas de código que agregues, pero trata de incluir las mínimas posibles.**"
      ],
      "metadata": {
        "id": "X-eMJa3DFCIV"
      }
    },
    {
      "cell_type": "markdown",
      "source": [
        "*   **Pregunta 1.**\n",
        "\n",
        "Busca y elimina todos los saltos de línea '\\n' que se encuentran al final de cada comentario.\n",
        "\n",
        "Una vez finalizado, imprime los primeros 10 comentarios del resultado obtenido.\n"
      ],
      "metadata": {
        "id": "78nJMemzn5a5"
      }
    },
    {
      "cell_type": "code",
      "source": [
        "# Eliminar los saltos de línea del texto original (limpieza).\n",
        "comentarios = [re.sub(r'\\n', '', comentario) for comentario in docs]\n",
        "# Mostrar los primeros 10 elementos resultantes.\n",
        "comentarios[0:10]"
      ],
      "metadata": {
        "id": "PwbYYIuZn8pE",
        "colab": {
          "base_uri": "https://localhost:8080/"
        },
        "outputId": "cb2282e2-6bd9-4a36-85a5-33711113cb41"
      },
      "execution_count": 191,
      "outputs": [
        {
          "output_type": "execute_result",
          "data": {
            "text/plain": [
              "['Wow... Loved this place.',\n",
              " 'Crust is not good.',\n",
              " 'Not tasty and the texture was just nasty.',\n",
              " 'Stopped by during the late May bank holiday off Rick Steve recommendation and loved it.',\n",
              " 'The selection on the menu was great and so were the prices.',\n",
              " 'Now I am getting angry and I want my damn pho.',\n",
              " \"Honeslty it didn't taste THAT fresh.)\",\n",
              " 'The potatoes were like rubber and you could tell they had been made up ahead of time being kept under a warmer.',\n",
              " 'The fries were great too.',\n",
              " 'A great touch.']"
            ]
          },
          "metadata": {},
          "execution_count": 191
        }
      ]
    },
    {
      "cell_type": "markdown",
      "source": [
        "*   **Pregunta 2.**  \n",
        "\n",
        "Busca e imprime todas las palabras que terminan con dos o más signos de admiración seguidos, por ejemplo \"!!!\".\n",
        "\n",
        "Debes imprimir tanto la palabra como la totalidad de signos de admiración que le siguen.\n",
        "\n",
        "Indica cuántos resultados obtuviste.\n",
        "\n"
      ],
      "metadata": {
        "id": "VWeKQC93ctEo"
      }
    },
    {
      "cell_type": "code",
      "source": [
        "# Generar el patrón de la expresión regular:\n",
        "  # \\w+ caracteres alfanuméricos y guiones bajos una o más veces\n",
        "  # !!+ dos o más coincidencias de signos de admiración\n",
        "expresion_regular = r'\\w+!!+'\n",
        "\n",
        "# Obtener los resultados:\n",
        "matches = [match for comentario in comentarios for match in re.findall(expresion_regular, comentario)]\n",
        "\n",
        "# Obtener el total de coincidencias\n",
        "print(\"Número total de coincidencias:\", len(matches))"
      ],
      "metadata": {
        "id": "0p3kMXfddICc",
        "colab": {
          "base_uri": "https://localhost:8080/"
        },
        "outputId": "171b1775-3314-42df-f319-d5d7fcfdfdf1"
      },
      "execution_count": 192,
      "outputs": [
        {
          "output_type": "stream",
          "name": "stdout",
          "text": [
            "Número total de coincidencias: 26\n"
          ]
        }
      ]
    },
    {
      "cell_type": "code",
      "source": [
        "for match in matches:\n",
        "    print(match)"
      ],
      "metadata": {
        "id": "SPVM1MCWdH6Z",
        "colab": {
          "base_uri": "https://localhost:8080/"
        },
        "outputId": "3c3ae0aa-d7e6-486f-c9b1-9252cf965c68"
      },
      "execution_count": 193,
      "outputs": [
        {
          "output_type": "stream",
          "name": "stdout",
          "text": [
            "Firehouse!!!!!\n",
            "APPETIZERS!!!\n",
            "amazing!!!\n",
            "buffet!!!\n",
            "good!!\n",
            "it!!!!\n",
            "DELICIOUS!!\n",
            "amazing!!\n",
            "shawarrrrrrma!!!!!!\n",
            "yucky!!!\n",
            "steak!!!!!\n",
            "delicious!!!\n",
            "far!!\n",
            "biscuits!!!\n",
            "dry!!\n",
            "disappointing!!!\n",
            "awesome!!\n",
            "Up!!\n",
            "FLY!!!!!!!!\n",
            "here!!!\n",
            "great!!!!!!!!!!!!!!\n",
            "packed!!\n",
            "otherwise!!\n",
            "amazing!!!!!!!!!!!!!!!!!!!\n",
            "style!!\n",
            "disappointed!!\n"
          ]
        }
      ]
    },
    {
      "cell_type": "markdown",
      "source": [
        "*   **Pregunta 3.**  \n",
        "\n",
        "Busca e imprime todas las palabras que están escritas totalmente en mayúsculas. Cada coincidencia debe ser una sola palabra.\n",
        "\n",
        "Indica cuántas palabras encontraste.\n",
        "\n"
      ],
      "metadata": {
        "id": "-s3okBqL96TT"
      }
    },
    {
      "cell_type": "code",
      "source": [
        "## Búsqueda de todas las palabras que están escritas totalmente en mayúsculas.\n",
        "  # \\b: límite de palabra\n",
        "  # [A-Z]: caracteres en mayúsculas incluyendo números\n",
        "  # \\b: límite de palabra\n",
        "expresion_regular = r'\\b[A-Z]+\\b'\n",
        "\n",
        "# Obtener los resultados:\n",
        "matches = [match for comentario in comentarios for match in re.findall(expresion_regular, comentario)]\n",
        "\n",
        "# Obtener el total de coincidencias\n",
        "print(\"Número total de coincidencias:\", len(matches))"
      ],
      "metadata": {
        "id": "yKHJkZKo_nW5",
        "colab": {
          "base_uri": "https://localhost:8080/"
        },
        "outputId": "7d28ca78-a582-4982-e74c-8a45593758da"
      },
      "execution_count": 194,
      "outputs": [
        {
          "output_type": "stream",
          "name": "stdout",
          "text": [
            "Número total de coincidencias: 455\n"
          ]
        }
      ]
    },
    {
      "cell_type": "code",
      "source": [
        "# Mostrar las 50 primeras coincidencias\n",
        "for match in matches[:50]:\n",
        "    print(match)"
      ],
      "metadata": {
        "id": "L3q08aq69sNn",
        "colab": {
          "base_uri": "https://localhost:8080/"
        },
        "outputId": "909ebc9a-2d6b-4417-d58e-35271c918095"
      },
      "execution_count": 195,
      "outputs": [
        {
          "output_type": "stream",
          "name": "stdout",
          "text": [
            "I\n",
            "I\n",
            "THAT\n",
            "A\n",
            "I\n",
            "I\n",
            "I\n",
            "I\n",
            "I\n",
            "I\n",
            "I\n",
            "I\n",
            "I\n",
            "I\n",
            "I\n",
            "I\n",
            "APPETIZERS\n",
            "A\n",
            "I\n",
            "I\n",
            "I\n",
            "I\n",
            "I\n",
            "I\n",
            "I\n",
            "WILL\n",
            "NEVER\n",
            "EVER\n",
            "STEP\n",
            "FORWARD\n",
            "IN\n",
            "IT\n",
            "AGAIN\n",
            "I\n",
            "LOVED\n",
            "I\n",
            "AND\n",
            "REAL\n",
            "I\n",
            "I\n",
            "I\n",
            "I\n",
            "BITCHES\n",
            "I\n",
            "I\n",
            "I\n",
            "I\n",
            "NYC\n",
            "I\n",
            "I\n"
          ]
        }
      ]
    },
    {
      "cell_type": "code",
      "source": [
        "# Eliminando las letras únicas como \"I\" (Yo) o A que se repiten varias veces\n",
        "# y letras mayúsculas sueltas:\n",
        "# Generar el patrón de la expresión regular:\n",
        "  # \\b: límite de palabra\n",
        "  # (?![A-Z]\\b): no permitir letras sueltas como la palabra \"I\"\n",
        "  # [A-Z]: caracteres en mayúsculas\n",
        "  # \\b: límite de palabra\n",
        "expresion_regular = r'\\b(?![A-Z]\\b)[A-Z]+\\b'\n",
        "\n",
        "# Obtener los resultados:\n",
        "matches = [match for comentario in comentarios for match in re.findall(expresion_regular, comentario)]\n",
        "\n",
        "# Obtener el total de coincidencias\n",
        "print(\"Número total de coincidencias:\", len(matches))"
      ],
      "metadata": {
        "colab": {
          "base_uri": "https://localhost:8080/"
        },
        "id": "Z0QnHpCwt1_m",
        "outputId": "87211816-891e-49e5-dbad-548cfc3b733a"
      },
      "execution_count": 196,
      "outputs": [
        {
          "output_type": "stream",
          "name": "stdout",
          "text": [
            "Número total de coincidencias: 96\n"
          ]
        }
      ]
    },
    {
      "cell_type": "code",
      "source": [
        "# Mostrar las 50 primeras coincidencias\n",
        "for match in matches[:50]:\n",
        "    print(match)"
      ],
      "metadata": {
        "colab": {
          "base_uri": "https://localhost:8080/"
        },
        "id": "nJBAoSILuqSj",
        "outputId": "df9593a4-9b85-4187-b54a-dfeb80097a3e"
      },
      "execution_count": 197,
      "outputs": [
        {
          "output_type": "stream",
          "name": "stdout",
          "text": [
            "THAT\n",
            "APPETIZERS\n",
            "WILL\n",
            "NEVER\n",
            "EVER\n",
            "STEP\n",
            "FORWARD\n",
            "IN\n",
            "IT\n",
            "AGAIN\n",
            "LOVED\n",
            "AND\n",
            "REAL\n",
            "BITCHES\n",
            "NYC\n",
            "STALE\n",
            "DELICIOUS\n",
            "WORST\n",
            "EXPERIENCE\n",
            "EVER\n",
            "ALL\n",
            "BARGAIN\n",
            "TV\n",
            "NONE\n",
            "FREEZING\n",
            "AYCE\n",
            "FLAVOR\n",
            "NEVER\n",
            "BBQ\n",
            "UNREAL\n",
            "OMG\n",
            "BETTER\n",
            "BLAND\n",
            "RUDE\n",
            "INCONSIDERATE\n",
            "MANAGEMENT\n",
            "WILL\n",
            "NEVER\n",
            "EVER\n",
            "GO\n",
            "BACK\n",
            "AND\n",
            "HAVE\n",
            "TOLD\n",
            "MANY\n",
            "PEOPLE\n",
            "WHAT\n",
            "HAD\n",
            "HAPPENED\n",
            "TOTAL\n"
          ]
        }
      ]
    },
    {
      "cell_type": "markdown",
      "source": [
        "*   **Pregunta 4.**  \n",
        "\n",
        "Busca e imprime los comentarios en donde todos los caracteres alfabéticos (letras) están en mayúsculas.\n",
        "\n",
        "Cada coincidencia encontrada debe ser todo el comentario/enunciado.\n",
        "\n",
        "Indica cuántos resultados obtuviste.\n"
      ],
      "metadata": {
        "id": "GX8eYyDoMZma"
      }
    },
    {
      "cell_type": "code",
      "source": [
        "# Buscar todas las coincidencias que no sean completamente en minúsculas:\n",
        "# ^[^a-z]*$: Descartar si hay caracteres en minúsculas, preservando puntuaciones.\n",
        "expresion_regular = r'^[^a-z]*$'\n",
        "\n",
        "# Obtener los resultados:\n",
        "matches = [match for comentario in comentarios for match in re.findall(expresion_regular, comentario)]\n",
        "\n",
        "# Obtener el total de coincidencias\n",
        "print(\"Número total de coincidencias:\", len(matches))"
      ],
      "metadata": {
        "id": "K8VuZxvTMYj6",
        "colab": {
          "base_uri": "https://localhost:8080/"
        },
        "outputId": "ad637a2d-82d6-4347-f756-f46db792481f"
      },
      "execution_count": 198,
      "outputs": [
        {
          "output_type": "stream",
          "name": "stdout",
          "text": [
            "Número total de coincidencias: 5\n"
          ]
        }
      ]
    },
    {
      "cell_type": "code",
      "source": [
        "# Mostrar las 50 primeras coincidencias\n",
        "for match in matches[:50]:\n",
        "    print(match)"
      ],
      "metadata": {
        "id": "PmKgX7sCMcDx",
        "colab": {
          "base_uri": "https://localhost:8080/"
        },
        "outputId": "71f27bfb-db81-4f77-94e0-9aa5e6f0e1e3"
      },
      "execution_count": 199,
      "outputs": [
        {
          "output_type": "stream",
          "name": "stdout",
          "text": [
            "DELICIOUS!!\n",
            "RUDE & INCONSIDERATE MANAGEMENT.\n",
            "WILL NEVER EVER GO BACK AND HAVE TOLD MANY PEOPLE WHAT HAD HAPPENED.\n",
            "TOTAL WASTE OF TIME.\n",
            "AVOID THIS ESTABLISHMENT!\n"
          ]
        }
      ]
    },
    {
      "cell_type": "markdown",
      "source": [
        "*   **Pregunta 5.**  \n",
        "\n",
        "Busca e imprime todas las palabras que tengan una vocal acentuada, del tipo á, é, í, ó, ú.\n",
        "\n",
        "Indica cuántos resultados obtuviste."
      ],
      "metadata": {
        "id": "a1i6qv7-McmU"
      }
    },
    {
      "cell_type": "code",
      "source": [
        "# Buscar todas las coincidencias de palabras que contienen las letras con tilde: á, é, í, ó, ú\n",
        "expresion_regular = r'\\b\\w*[áéíóú]+\\w*\\b'\n",
        "\n",
        "# Obtener los resultados:\n",
        "matches = [match for comentario in comentarios for match in re.findall(expresion_regular, comentario)]\n",
        "\n",
        "# Obtener el total de coincidencias\n",
        "print(\"Número total de coincidencias:\", len(matches))\n"
      ],
      "metadata": {
        "id": "nZZ5zKUOMeGD",
        "colab": {
          "base_uri": "https://localhost:8080/"
        },
        "outputId": "79a886f9-885d-44a9-bbbd-f482d54a217f"
      },
      "execution_count": 200,
      "outputs": [
        {
          "output_type": "stream",
          "name": "stdout",
          "text": [
            "Número total de coincidencias: 3\n"
          ]
        }
      ]
    },
    {
      "cell_type": "code",
      "source": [
        "# Mostrar las 50 primeras coincidencias\n",
        "for match in matches[:50]:\n",
        "    print(match)"
      ],
      "metadata": {
        "id": "l1mFvUEZMe8s",
        "colab": {
          "base_uri": "https://localhost:8080/"
        },
        "outputId": "1e37c90b-f39e-4c72-b85b-61b442a6421b"
      },
      "execution_count": 201,
      "outputs": [
        {
          "output_type": "stream",
          "name": "stdout",
          "text": [
            "fiancé\n",
            "Café\n",
            "puréed\n"
          ]
        }
      ]
    },
    {
      "cell_type": "markdown",
      "source": [
        "*   **Pregunta 6.**  \n",
        "\n",
        "Busca e imprime todas las cantidades numéricas monetarias, enteras o con decimales, que inician con el símbolo $\\$$.\n",
        "\n",
        "Indica cuántos resultados obtuviste."
      ],
      "metadata": {
        "id": "ZmPiAI82Mfb3"
      }
    },
    {
      "cell_type": "code",
      "source": [
        "# Buscar todas las coincidencias numéricas monetarias, enteras o con decimales, que inicien con el símbolo $\n",
        "# \\$: El símbolo de moneda\n",
        "# \\d+: Uno o más dígitos\n",
        "# (?:,\\d{3})*: Opcionalmente una coma seguida de tres dígitos, repetido cero o más veces\n",
        "# (?:\\.\\d+)?: Opcionalmente un punto seguido de uno o más dígitos\n",
        "expresion_regular = r'\\$\\d+(?:,\\d{3})*(?:\\.\\d+)?'\n",
        "\n",
        "# Obtener los resultados:\n",
        "matches = [match for comentario in comentarios for match in re.findall(expresion_regular, comentario)]\n",
        "\n",
        "# Obtener el total de coincidencias\n",
        "print(\"Número total de coincidencias:\", len(matches))\n"
      ],
      "metadata": {
        "id": "6vhe9-Y-MhL9",
        "colab": {
          "base_uri": "https://localhost:8080/"
        },
        "outputId": "5f9fb3ea-869b-488a-9f87-7f5ef3784b3d"
      },
      "execution_count": 202,
      "outputs": [
        {
          "output_type": "stream",
          "name": "stdout",
          "text": [
            "Número total de coincidencias: 8\n"
          ]
        }
      ]
    },
    {
      "cell_type": "code",
      "source": [
        "# Mostrar las 50 primeras coincidencias\n",
        "for match in matches[:50]:\n",
        "    print(match)"
      ],
      "metadata": {
        "id": "_t0a5xWDMhQ5",
        "colab": {
          "base_uri": "https://localhost:8080/"
        },
        "outputId": "d60f80ed-8b0f-432e-cab0-81c38c9effe9"
      },
      "execution_count": 203,
      "outputs": [
        {
          "output_type": "stream",
          "name": "stdout",
          "text": [
            "$20\n",
            "$4.00\n",
            "$17\n",
            "$3\n",
            "$35\n",
            "$7.85\n",
            "$12\n",
            "$11.99\n"
          ]
        }
      ]
    },
    {
      "cell_type": "markdown",
      "source": [
        "*   **Pregunta 7.**  \n",
        "\n",
        "Busca e imprime todas las palabras que sean variantes de la palabra \"love\", sin importar si incluyen mayúsculas o minúsculas, o la manera en que esté conjugada o alguna otra variación que se haga con dicha palabra.\n",
        "\n",
        "Indica cuántos resultados obtuviste."
      ],
      "metadata": {
        "id": "2j-HpvhwMhq2"
      }
    },
    {
      "cell_type": "code",
      "source": [
        "# Buscar variantes de la palabra \"love\", sin importar si incluyen mayúsculas o minúsculas:\n",
        "# \\b: límite de palabra\n",
        "# [Ll1][O0o][Vv][Ee3]: Variaciones posibles de la palabra \"love\" incluyendo diferentes combinaciones de mayúsculas y minúsculas, así como dígitos.\n",
        "# \\w*: Cero o más caracteres alfanuméricos que siguen la palabra \"love\"\n",
        "# \\b: límite de palabra\n",
        "expresion_regular = r'\\b[Ll1][O0o][Vv][Ee3]\\w*\\b'\n",
        "\n",
        "# Obtener los resultados:\n",
        "matches = [match for comentario in comentarios for match in re.findall(expresion_regular, comentario)]\n",
        "\n",
        "# Obtener el total de coincidencias\n",
        "print(\"Número total de coincidencias:\", len(matches))\n"
      ],
      "metadata": {
        "id": "kqqyRChVMjol",
        "colab": {
          "base_uri": "https://localhost:8080/"
        },
        "outputId": "b89fbaaa-15b6-400b-9480-3f9f31b39700"
      },
      "execution_count": 204,
      "outputs": [
        {
          "output_type": "stream",
          "name": "stdout",
          "text": [
            "Número total de coincidencias: 35\n"
          ]
        }
      ]
    },
    {
      "cell_type": "code",
      "source": [
        "# Mostrar las 50 primeras coincidencias\n",
        "for match in matches[:50]:\n",
        "    print(match)"
      ],
      "metadata": {
        "id": "2jFBr_mLwDMp",
        "outputId": "5cc3f3a2-210d-42ed-acd9-75f17cce2778",
        "colab": {
          "base_uri": "https://localhost:8080/"
        }
      },
      "execution_count": 205,
      "outputs": [
        {
          "output_type": "stream",
          "name": "stdout",
          "text": [
            "Loved\n",
            "loved\n",
            "Loved\n",
            "love\n",
            "loves\n",
            "LOVED\n",
            "lovers\n",
            "love\n",
            "lovers\n",
            "Love\n",
            "loved\n",
            "loved\n",
            "love\n",
            "love\n",
            "love\n",
            "loved\n",
            "love\n",
            "loved\n",
            "Love\n",
            "LOVED\n",
            "love\n",
            "lovely\n",
            "love\n",
            "lovely\n",
            "love\n",
            "lover\n",
            "loved\n",
            "love\n",
            "love\n",
            "love\n",
            "love\n",
            "love\n",
            "love\n",
            "love\n",
            "love\n"
          ]
        }
      ]
    },
    {
      "cell_type": "markdown",
      "source": [
        "*   **Pregunta 8.**  \n",
        "\n",
        "Busca e imprime todas las palabras, variantes de \"so\" y \"good\", que tengan dos o más \"o\" en \"so\" y 3 o más \"o\" en good.\n",
        "\n",
        "Indica cuántas encontraste.\n"
      ],
      "metadata": {
        "id": "Ctb-NTY3MkYG"
      }
    },
    {
      "cell_type": "code",
      "source": [
        "# Variantes de \"so\", que contienen dos o más ocurrencias de la letra \"o\" en \"so\":\n",
        "# \\b: Coincide con un límite de palabra.\n",
        "# ([Ss]): Coincide con una o más ocurrencias de la letra \"s\" en mayúscula o minúscula.\n",
        "# [Oo]{2,}: Coincide con dos o más ocurrencias de la letra \"o\" en mayúscula o minúscula.\n",
        "# \\b: Coincide con un límite de palabra.\n",
        "expresion_regular = r'\\b([Ss]+[Oo]{2,})+\\b'\n",
        "\n",
        "# matches: Lista que contiene todas las coincidencias encontradas en los comentarios.\n",
        "matches = [match for comentario in comentarios for match in re.findall(expresion_regular, comentario)]\n",
        "\n",
        "# Obtener el total de coincidencias.\n",
        "print(\"Número total de coincidencias de 'so':\", len(matches))"
      ],
      "metadata": {
        "colab": {
          "base_uri": "https://localhost:8080/"
        },
        "id": "hvl-0gjzxQML",
        "outputId": "1330f62d-c1c8-4e64-f180-0cf1503c6e26"
      },
      "execution_count": 206,
      "outputs": [
        {
          "output_type": "stream",
          "name": "stdout",
          "text": [
            "Número total de coincidencias de 'so': 4\n"
          ]
        }
      ]
    },
    {
      "cell_type": "code",
      "source": [
        "# Mostrar las 50 primeras coincidencias\n",
        "for match in matches[:50]:\n",
        "    print(match)"
      ],
      "metadata": {
        "id": "svS4-vvPMl6f",
        "colab": {
          "base_uri": "https://localhost:8080/"
        },
        "outputId": "bbbf7e88-2781-40d9-c92d-7064c7a1b41d"
      },
      "execution_count": 207,
      "outputs": [
        {
          "output_type": "stream",
          "name": "stdout",
          "text": [
            "Sooooo\n",
            "soooo\n",
            "soooooo\n",
            "soooo\n"
          ]
        }
      ]
    },
    {
      "cell_type": "code",
      "source": [
        "# Variantes de \"good\", que contienen 3 o más ocurrencias de la letra \"o\" en \"good\":\n",
        "# \\b: Coincide con un límite de palabra.\n",
        "# [Gg]: Coincide con una o más ocurrencias de la letra \"g\" en mayúscula o minúscula.\n",
        "# [Oo]{3,}: Coincide con tres o más ocurrencias de la letra \"o\" en mayúscula o minúscula.\n",
        "# [Dd]+: Coincide con una o más ocurrencias de la letra \"d\" en mayúscula o minúscula.\n",
        "# \\b: Coincide con un límite de palabra.\n",
        "expresion_regular = r'\\b[Gg]+[Oo]{3,}[Dd]+\\b'\n",
        "\n",
        "# matches: Lista que contiene todas las coincidencias encontradas en los comentarios.\n",
        "matches = [match for comentario in comentarios for match in re.findall(expresion_regular, comentario)]\n",
        "\n",
        "# Obtener el total de coincidencias.\n",
        "print(\"Número total de coincidencias de 'good':\", len(matches))\n"
      ],
      "metadata": {
        "colab": {
          "base_uri": "https://localhost:8080/"
        },
        "id": "o7UMkLr5wi5U",
        "outputId": "05eeb669-7302-4fd8-e250-b71433d7ad3b"
      },
      "execution_count": 208,
      "outputs": [
        {
          "output_type": "stream",
          "name": "stdout",
          "text": [
            "Número total de coincidencias de 'good': 1\n"
          ]
        }
      ]
    },
    {
      "cell_type": "code",
      "source": [
        "# Mostrar las 50 primeras coincidencias\n",
        "for match in matches[:50]:\n",
        "    print(match)"
      ],
      "metadata": {
        "colab": {
          "base_uri": "https://localhost:8080/"
        },
        "id": "YbEMr2qczlsp",
        "outputId": "9b642400-fe40-4d8b-efb3-49535b6539e2"
      },
      "execution_count": 209,
      "outputs": [
        {
          "output_type": "stream",
          "name": "stdout",
          "text": [
            "gooodd\n"
          ]
        }
      ]
    },
    {
      "cell_type": "markdown",
      "source": [
        "*   **Pregunta 9.**  \n",
        "\n",
        "Busca e imprime todas las palabras que tengan una longitud mayor estrictamente a 10 caracteres alfabéticos.\n",
        "\n",
        "No se consideran los signos de puntuación o caracteres especiales en la longitud de estas cadenas, solo caracteres alfabéticos en mayúsculas o minúsculas.\n",
        "\n",
        "Indica la cantidad de palabras encontradas.\n"
      ],
      "metadata": {
        "id": "hkak1opjMmlk"
      }
    },
    {
      "cell_type": "code",
      "source": [
        "# Palabras que tengan una longitud mayor estrictamente a 10 caracteres alfabéticos:\n",
        "# \\b: Coincide con un límite de palabra.\n",
        "# [a-zA-Z]: Coincide con cualquier letra en mayúscula o minúscula.\n",
        "# {11,}: Indica que la longitud de la palabra debe ser mayor o igual a 11 caracteres.\n",
        "# \\b: Coincide con un límite de palabra.\n",
        "expresion_regular = r'\\b[a-zA-Z]{11,}\\b'\n",
        "\n",
        "# matches: Lista que contiene todas las coincidencias encontradas en los comentarios.\n",
        "matches = [match for comentario in comentarios for match in re.findall(expresion_regular, comentario)]\n",
        "\n",
        "# Obtener el total de coincidencias.\n",
        "print(\"Número total de palabras con longitud mayor a 10 caracteres alfabéticos:\", len(matches))\n"
      ],
      "metadata": {
        "outputId": "e96cfd83-d39f-40cc-8c54-fd0c20f0ce9e",
        "colab": {
          "base_uri": "https://localhost:8080/"
        },
        "id": "BDlqeZ1h3OwQ"
      },
      "execution_count": 210,
      "outputs": [
        {
          "output_type": "stream",
          "name": "stdout",
          "text": [
            "Número total de palabras con longitud mayor a 10 caracteres alfabéticos: 141\n"
          ]
        }
      ]
    },
    {
      "cell_type": "code",
      "source": [
        "# Mostrar las 50 primeras coincidencias\n",
        "for match in matches[:]:\n",
        "    print(match)"
      ],
      "metadata": {
        "colab": {
          "base_uri": "https://localhost:8080/"
        },
        "id": "Y0cuQHcP3s5W",
        "outputId": "13cd8ef5-1ff4-429e-a0a1-cfc404d52f83"
      },
      "execution_count": 211,
      "outputs": [
        {
          "output_type": "stream",
          "name": "stdout",
          "text": [
            "recommendation\n",
            "recommended\n",
            "overwhelmed\n",
            "inexpensive\n",
            "establishment\n",
            "imaginative\n",
            "opportunity\n",
            "experiencing\n",
            "underwhelming\n",
            "relationship\n",
            "unsatisfying\n",
            "disappointing\n",
            "outrageously\n",
            "disappointing\n",
            "expectations\n",
            "restaurants\n",
            "suggestions\n",
            "disappointed\n",
            "considering\n",
            "Unfortunately\n",
            "immediately\n",
            "ingredients\n",
            "accommodations\n",
            "maintaining\n",
            "Interesting\n",
            "disrespected\n",
            "accordingly\n",
            "unbelievable\n",
            "cheeseburger\n",
            "descriptions\n",
            "inexpensive\n",
            "disappointed\n",
            "Veggitarian\n",
            "outstanding\n",
            "recommendation\n",
            "disappointed\n",
            "disappointed\n",
            "neighborhood\n",
            "disappointed\n",
            "corporation\n",
            "considering\n",
            "exceptional\n",
            "shawarrrrrrma\n",
            "disappointed\n",
            "vinaigrette\n",
            "immediately\n",
            "unbelievably\n",
            "replenished\n",
            "disappointed\n",
            "enthusiastic\n",
            "Outstanding\n",
            "comfortable\n",
            "interesting\n",
            "INCONSIDERATE\n",
            "considering\n",
            "transcendant\n",
            "disappointment\n",
            "disappointed\n",
            "disappointed\n",
            "overwhelmed\n",
            "professional\n",
            "Furthermore\n",
            "combination\n",
            "connoisseur\n",
            "profiterole\n",
            "outstanding\n",
            "acknowledged\n",
            "ventilation\n",
            "beautifully\n",
            "establishment\n",
            "extraordinary\n",
            "disappointed\n",
            "cheesecurds\n",
            "disappointed\n",
            "interesting\n",
            "experienced\n",
            "opportunity\n",
            "disgraceful\n",
            "restaurants\n",
            "ESTABLISHMENT\n",
            "recommended\n",
            "disappointed\n",
            "recommended\n",
            "acknowledged\n",
            "presentation\n",
            "Philadelphia\n",
            "disappointed\n",
            "disappointing\n",
            "grandmother\n",
            "drastically\n",
            "informative\n",
            "Disappointed\n",
            "constructed\n",
            "comfortable\n",
            "Smashburger\n",
            "cheeseburger\n",
            "neighborhood\n",
            "disappointed\n",
            "hospitality\n",
            "recommending\n",
            "disappointed\n",
            "deliciously\n",
            "compliments\n",
            "recommendation\n",
            "establishment\n",
            "calligraphy\n",
            "traditional\n",
            "combination\n",
            "Unfortunately\n",
            "Wienerschnitzel\n",
            "unfortunately\n",
            "considering\n",
            "highlighted\n",
            "Mediterranean\n",
            "unprofessional\n",
            "anticipated\n",
            "disappointing\n",
            "unexperienced\n",
            "disrespected\n",
            "professional\n",
            "restaurants\n",
            "Disappointing\n",
            "WAAAAAAyyyyyyyyyy\n",
            "reservation\n",
            "imagination\n",
            "undercooked\n",
            "disappointed\n",
            "disappointment\n",
            "disappointment\n",
            "deuchebaggery\n",
            "disappointed\n",
            "disappointment\n",
            "immediately\n",
            "Unfortunately\n",
            "disapppointment\n",
            "circumstances\n",
            "undercooked\n",
            "caterpillar\n",
            "presentation\n",
            "disappointed\n",
            "underwhelming\n"
          ]
        }
      ]
    },
    {
      "cell_type": "markdown",
      "source": [
        "*   **Pregunta 10.**  \n",
        "\n",
        "Busca e imprime todas las palabras que inician con una letra mayúscula y terminan con una minúscula, pero que además no sea la primera palabra del comentario/string.\n",
        "\n",
        "Indica la cantidad de resultados obtenidos."
      ],
      "metadata": {
        "id": "ApjTNzSxMpDc"
      }
    },
    {
      "cell_type": "code",
      "source": [
        "# Eliminar la primera palabra\n",
        "# \\b: Coincide con el límite de una palabra.\n",
        "# \\w+: Coincide con uno o más caracteres alfanuméricos.\n",
        "# \\b: Coincide con el límite de una palabra.\n",
        "patron_primera_palabra = r'\\b\\w+\\b'\n",
        "\n",
        "enunciados_sin_primera_palabra = []\n",
        "\n",
        "for enunciado in comentarios:\n",
        "    # Encuentra la primera palabra del enunciado\n",
        "    primera_palabra = re.match(patron_primera_palabra, enunciado)\n",
        "\n",
        "    if primera_palabra:\n",
        "        # Obtiene la posición del final de la primera palabra\n",
        "        fin_primera_palabra = primera_palabra.end()\n",
        "\n",
        "        # Elimina la primera palabra del enunciado y lo procesa\n",
        "        enunciado_sin_primera_palabra = enunciado[fin_primera_palabra:].strip()\n",
        "\n",
        "        # Agrega el enunciado procesado a la lista\n",
        "        enunciados_sin_primera_palabra.append(enunciado_sin_primera_palabra)\n",
        "\n",
        "# Imprime la lista de enunciados sin la primera palabra\n",
        "for enunciado in enunciados_sin_primera_palabra[:10]:\n",
        "  print(\"Enunciados sin la primera palabra:\", enunciado)\n"
      ],
      "metadata": {
        "id": "dLPTRPnTMqqx",
        "colab": {
          "base_uri": "https://localhost:8080/"
        },
        "outputId": "7d2ff22d-3002-4fc7-dc94-20c9a3ec5118"
      },
      "execution_count": 212,
      "outputs": [
        {
          "output_type": "stream",
          "name": "stdout",
          "text": [
            "Enunciados sin la primera palabra: ... Loved this place.\n",
            "Enunciados sin la primera palabra: is not good.\n",
            "Enunciados sin la primera palabra: tasty and the texture was just nasty.\n",
            "Enunciados sin la primera palabra: by during the late May bank holiday off Rick Steve recommendation and loved it.\n",
            "Enunciados sin la primera palabra: selection on the menu was great and so were the prices.\n",
            "Enunciados sin la primera palabra: I am getting angry and I want my damn pho.\n",
            "Enunciados sin la primera palabra: it didn't taste THAT fresh.)\n",
            "Enunciados sin la primera palabra: potatoes were like rubber and you could tell they had been made up ahead of time being kept under a warmer.\n",
            "Enunciados sin la primera palabra: fries were great too.\n",
            "Enunciados sin la primera palabra: great touch.\n"
          ]
        }
      ]
    },
    {
      "cell_type": "code",
      "source": [
        "# Procesamiento:\n",
        "\n",
        "# Expresión regular que busca palabras que comienzan con una letra mayúscula y terminan con una minúscula\n",
        "#   [A-Z]+: Coincide con una o más letras mayúsculas al principio de la palabra.\n",
        "#   \\w*: Coincide con cero o más caracteres alfanuméricos (letras, dígitos o guiones bajos).\n",
        "#   [a-z]+: Coincide con una o más letras minúsculas al final de la palabra.\n",
        "expresion_regular = r'([A-Z]+\\w*[a-z]+)'\n",
        "\n",
        "# Coincidencias encontradas en los enunciados sin la primera palabra\n",
        "matches = [match for commentario in enunciados_sin_primera_palabra for match in re.findall(expresion_regular, commentario)]\n",
        "\n",
        "# Imprimir el número total de coincidencias\n",
        "print(\"Número total de coincidencias de palabras que inician con una letra mayúscula y terminan con una minúscula:\", len(matches))"
      ],
      "metadata": {
        "colab": {
          "base_uri": "https://localhost:8080/"
        },
        "id": "6QqQxcPL3Lne",
        "outputId": "b1783167-8d43-4413-e06e-e6bdc49ce5e9"
      },
      "execution_count": 213,
      "outputs": [
        {
          "output_type": "stream",
          "name": "stdout",
          "text": [
            "Número total de coincidencias de palabras que inician con una letra mayúscula y terminan con una minúscula: 165\n"
          ]
        }
      ]
    },
    {
      "cell_type": "code",
      "source": [
        "# Mostrar las 50 primeras coincidencias\n",
        "for match in matches[:50]:\n",
        "    print(match)"
      ],
      "metadata": {
        "colab": {
          "base_uri": "https://localhost:8080/"
        },
        "id": "lZofDS5CJ5gO",
        "outputId": "f3f48d85-cd90-4e5d-a43e-668b00b98d83"
      },
      "execution_count": 214,
      "outputs": [
        {
          "output_type": "stream",
          "name": "stdout",
          "text": [
            "Loved\n",
            "May\n",
            "Rick\n",
            "Steve\n",
            "Burrittos\n",
            "Blah\n",
            "The\n",
            "Hiro\n",
            "Firehouse\n",
            "Heart\n",
            "Attack\n",
            "Grill\n",
            "Vegas\n",
            "Dos\n",
            "Gringos\n",
            "Very\n",
            "Bad\n",
            "Customer\n",
            "Service\n",
            "Vegas\n",
            "Rice\n",
            "Company\n",
            "Pho\n",
            "Tigerlilly\n",
            "Thai\n",
            "Indian\n",
            "Not\n",
            "Vegas\n",
            "Mandalay\n",
            "Bay\n",
            "Great\n",
            "Voodoo\n",
            "Phoenix\n",
            "Lemon\n",
            "Joey\n",
            "Valley\n",
            "Phoenix\n",
            "Magazine\n",
            "Pho\n",
            "Fridays\n",
            "Tasty\n",
            "Jamaican\n",
            "Otto\n",
            "Not\n",
            "Vegas\n",
            "Greek\n",
            "Veggitarian\n",
            "Bachi\n",
            "Burger\n",
            "Pizza\n"
          ]
        }
      ]
    },
    {
      "cell_type": "markdown",
      "source": [
        "*   **Pregunta 11.**  \n",
        "\n",
        "Busca e imprime la secuencia de dos o más palabras que están separadas por un guion, \"-\", sin que tengan espacios en blanco entre ellas.\n",
        "\n",
        "Por ejemplo \"Go-Kart\" sería válido, pero \"Go  -Kart\" o \"Go  -  Kart\" no lo serían.\n",
        "\n",
        "Indica la cantidad de resultados obtenidos."
      ],
      "metadata": {
        "id": "u7nfm4KhMrNW"
      }
    },
    {
      "cell_type": "code",
      "source": [
        "# Expresión regular para encontrar palabras separadas por un guion \"-\", sin espacios en blanco entre ellas:\n",
        "# \\b: Coincide con un límite de palabra.\n",
        "# \\w+-\\w+: Coincide con una palabra que contiene un guion \"-\" seguido por otra palabra.\n",
        "# \\b: Coincide con un límite de palabra.\n",
        "expresion_regular = r'\\b\\w+-\\w+\\b'\n",
        "\n",
        "# matches: Lista que contiene todas las coincidencias encontradas en los comentarios.\n",
        "matches = [match for comentario in comentarios for match in re.findall(expresion_regular, comentario)]\n",
        "\n",
        "# Obtener el total de coincidencias.\n",
        "print(\"Número total de palabras separadas por un guion sin espacios en blanco entre ellas:\", len(matches))\n"
      ],
      "metadata": {
        "id": "OwU-a7eGMsub",
        "colab": {
          "base_uri": "https://localhost:8080/"
        },
        "outputId": "5748f207-0bed-4ad3-fa29-e55d521e0d77"
      },
      "execution_count": 215,
      "outputs": [
        {
          "output_type": "stream",
          "name": "stdout",
          "text": [
            "Número total de palabras separadas por un guion sin espacios en blanco entre ellas: 21\n"
          ]
        }
      ]
    },
    {
      "cell_type": "code",
      "source": [
        "for match in matches:\n",
        "    print(match)"
      ],
      "metadata": {
        "id": "SgzIL74ZMtGw",
        "colab": {
          "base_uri": "https://localhost:8080/"
        },
        "outputId": "ee6b8b49-a9a8-410e-ccb4-1d4f18eca186"
      },
      "execution_count": 216,
      "outputs": [
        {
          "output_type": "stream",
          "name": "stdout",
          "text": [
            "flat-lined\n",
            "hands-down\n",
            "must-stop\n",
            "sub-par\n",
            "Service-check\n",
            "in-house\n",
            "been-stepped\n",
            "in-and\n",
            "tracked-everywhere\n",
            "multi-grain\n",
            "to-go\n",
            "non-customer\n",
            "High-quality\n",
            "sit-down\n",
            "over-whelm\n",
            "low-key\n",
            "non-fancy\n",
            "golden-crispy\n",
            "over-priced\n",
            "over-hip\n",
            "under-services\n"
          ]
        }
      ]
    },
    {
      "cell_type": "markdown",
      "source": [
        "*   **Pregunta 12.**  \n",
        "\n",
        "Busca e imprime todas las palabras que terminan en \"ing\" o \"ed\".\n",
        "\n",
        "Indica la cantidad de palabras que encontraste de cada una."
      ],
      "metadata": {
        "id": "DEIgl79HMthr"
      }
    },
    {
      "cell_type": "code",
      "source": [
        "# Expresión regular para buscar palabras que terminan en \"ing\" o \"ed\"\n",
        "expresion_regular = r'\\b\\w+(?:ing|ed)\\b'\n",
        "\n",
        "# Busca todas las coincidencias en el texto\n",
        "matches = [match for commentario in comentarios for match in re.findall(expresion_regular, commentario)]\n",
        "\n",
        "# Inicializa contadores para palabras terminadas en \"ing\" y \"ed\"\n",
        "cont_ing = 0\n",
        "cont_ed = 0\n",
        "\n",
        "# Itera sobre las coincidencias para contar la cantidad de palabras encontradas\n",
        "for palabra in matches:\n",
        "    if palabra.endswith(\"ing\"):\n",
        "        cont_ing += 1\n",
        "    elif palabra.endswith(\"ed\"):\n",
        "        cont_ed += 1\n",
        "\n",
        "# Imprime las palabras encontradas y la cantidad de cada una\n",
        "print(\"Palabras que terminan en 'ing':\", cont_ing)\n",
        "print(\"Palabras que terminan en 'ed':\", cont_ed)\n"
      ],
      "metadata": {
        "id": "I4TSofBMMv9y",
        "colab": {
          "base_uri": "https://localhost:8080/"
        },
        "outputId": "76859175-2f3b-435b-a648-9b96b505e89e"
      },
      "execution_count": 217,
      "outputs": [
        {
          "output_type": "stream",
          "name": "stdout",
          "text": [
            "Palabras que terminan en 'ing': 279\n",
            "Palabras que terminan en 'ed': 335\n"
          ]
        }
      ]
    },
    {
      "cell_type": "code",
      "source": [
        "# Expresión regular para buscar palabras que terminan en \"ing\" o \"ed\":\n",
        "# \\b: Coincide con un límite de palabra para asegurar que la palabra esté delimitada correctamente.\n",
        "# \\w+: Coincide con una o más letras, dígitos o guiones bajos al principio de la palabra.\n",
        "# (?:ing|ed): Grupo de no captura que coincide con la secuencia \"ing\" o \"ed\".\n",
        "#  cualquier coincidencia encontrada dentro de este grupo no se capturará como un grupo separado\n",
        "# \\b: Coincide con un límite de palabra para asegurar que la palabra esté delimitada correctamente.\n",
        "expresion_regular = r'\\b\\w+(?:ing|ed)\\b'\n",
        "\n",
        "# Busca todas las coincidencias en el texto\n",
        "matches = [match for commentario in comentarios for match in re.findall(expresion_regular, commentario)]\n",
        "\n",
        "# Inicializa contadores para palabras terminadas en \"ing\" y \"ed\"\n",
        "cont_ing = sum(1 for palabra in matches if palabra.endswith(\"ing\"))\n",
        "cont_ed = sum(1 for palabra in matches if palabra.endswith(\"ed\"))\n",
        "\n",
        "# Imprime las palabras encontradas y la cantidad de cada una\n",
        "print(\"Palabras que terminan en 'ing':\", cont_ing)\n",
        "print(\"Palabras que terminan en 'ed':\", cont_ed)\n"
      ],
      "metadata": {
        "colab": {
          "base_uri": "https://localhost:8080/"
        },
        "id": "mGKp4-0t4HM3",
        "outputId": "17359d2f-0fe6-499c-a585-bf4d46414b56"
      },
      "execution_count": 218,
      "outputs": [
        {
          "output_type": "stream",
          "name": "stdout",
          "text": [
            "Palabras que terminan en 'ing': 279\n",
            "Palabras que terminan en 'ed': 335\n"
          ]
        }
      ]
    },
    {
      "cell_type": "code",
      "source": [
        "for match in matches:\n",
        "    print(match)"
      ],
      "metadata": {
        "id": "VQqYgQCxM_v4",
        "outputId": "dc7da471-d1c3-461f-bd30-a6b92a51bef7",
        "colab": {
          "base_uri": "https://localhost:8080/"
        }
      },
      "execution_count": 219,
      "outputs": [
        {
          "output_type": "stream",
          "name": "stdout",
          "text": [
            "Loved\n",
            "Stopped\n",
            "during\n",
            "loved\n",
            "getting\n",
            "being\n",
            "ended\n",
            "being\n",
            "overpriced\n",
            "tried\n",
            "disgusted\n",
            "shocked\n",
            "recommended\n",
            "amazing\n",
            "performed\n",
            "red\n",
            "asked\n",
            "running\n",
            "overwhelmed\n",
            "redeeming\n",
            "grossed\n",
            "melted\n",
            "getting\n",
            "provided\n",
            "thing\n",
            "cooked\n",
            "dressing\n",
            "refreshing\n",
            "ordered\n",
            "running\n",
            "realized\n",
            "Loved\n",
            "lined\n",
            "cooked\n",
            "ripped\n",
            "ripped\n",
            "petrified\n",
            "amazing\n",
            "included\n",
            "expected\n",
            "nothing\n",
            "appalling\n",
            "seasoned\n",
            "cheated\n",
            "wasting\n",
            "eating\n",
            "going\n",
            "Coming\n",
            "experiencing\n",
            "underwhelming\n",
            "walked\n",
            "smelled\n",
            "eating\n",
            "raving\n",
            "tailored\n",
            "spring\n",
            "unsatisfying\n",
            "amazing\n",
            "Everything\n",
            "disappointing\n",
            "dining\n",
            "flirting\n",
            "arrived\n",
            "roasted\n",
            "added\n",
            "thing\n",
            "coming\n",
            "cooked\n",
            "playing\n",
            "passed\n",
            "ordering\n",
            "arriving\n",
            "liked\n",
            "disappointing\n",
            "managed\n",
            "served\n",
            "preparing\n",
            "loving\n",
            "liking\n",
            "reviewing\n",
            "venturing\n",
            "overpriced\n",
            "including\n",
            "during\n",
            "checked\n",
            "disappointed\n",
            "red\n",
            "decorated\n",
            "changing\n",
            "going\n",
            "considering\n",
            "served\n",
            "coming\n",
            "watched\n",
            "greeted\n",
            "seated\n",
            "waited\n",
            "flavored\n",
            "ordered\n",
            "going\n",
            "everything\n",
            "ordered\n",
            "relocated\n",
            "impressed\n",
            "seated\n",
            "priced\n",
            "looking\n",
            "treated\n",
            "ordered\n",
            "dressing\n",
            "dining\n",
            "used\n",
            "handed\n",
            "listed\n",
            "missed\n",
            "Everything\n",
            "thrilled\n",
            "amazing\n",
            "judging\n",
            "inspired\n",
            "desired\n",
            "maintaining\n",
            "asking\n",
            "overcooked\n",
            "decided\n",
            "looked\n",
            "having\n",
            "dressed\n",
            "treated\n",
            "something\n",
            "lacking\n",
            "ordered\n",
            "sucked\n",
            "expected\n",
            "sucked\n",
            "imagined\n",
            "Interesting\n",
            "served\n",
            "preparing\n",
            "arrived\n",
            "missing\n",
            "feeling\n",
            "satisfied\n",
            "voted\n",
            "insulted\n",
            "disrespected\n",
            "exceeding\n",
            "dreamed\n",
            "inviting\n",
            "lived\n",
            "stepped\n",
            "mixed\n",
            "showed\n",
            "climbing\n",
            "waiting\n",
            "realized\n",
            "coming\n",
            "loved\n",
            "being\n",
            "lacking\n",
            "needed\n",
            "going\n",
            "loved\n",
            "wrapped\n",
            "uninspired\n",
            "amazing\n",
            "dealing\n",
            "annoying\n",
            "Ordered\n",
            "falling\n",
            "uploaded\n",
            "sporting\n",
            "covered\n",
            "supposed\n",
            "amazing\n",
            "rolled\n",
            "stayed\n",
            "providing\n",
            "building\n",
            "lighting\n",
            "Based\n",
            "received\n",
            "going\n",
            "nothing\n",
            "privileged\n",
            "working\n",
            "eating\n",
            "dressing\n",
            "being\n",
            "charged\n",
            "visited\n",
            "proclaimed\n",
            "disappointed\n",
            "Stopped\n",
            "dedicated\n",
            "liked\n",
            "outstanding\n",
            "getting\n",
            "disappointed\n",
            "waited\n",
            "waited\n",
            "burned\n",
            "waited\n",
            "amazing\n",
            "disappointed\n",
            "Waited\n",
            "disappointed\n",
            "pulled\n",
            "prepared\n",
            "rating\n",
            "eating\n",
            "writing\n",
            "everything\n",
            "dining\n",
            "fried\n",
            "boring\n",
            "passed\n",
            "charming\n",
            "ordered\n",
            "toasted\n",
            "untoasted\n",
            "going\n",
            "figured\n",
            "making\n",
            "pricing\n",
            "considering\n",
            "returned\n",
            "amazing\n",
            "eyed\n",
            "disappointed\n",
            "pleased\n",
            "Everything\n",
            "replenished\n",
            "disappointed\n",
            "nothing\n",
            "nothing\n",
            "driving\n",
            "treated\n",
            "during\n",
            "evening\n",
            "offered\n",
            "Outstanding\n",
            "tasted\n",
            "buying\n",
            "handling\n",
            "wasting\n",
            "craving\n",
            "dropped\n",
            "dining\n",
            "decorated\n",
            "interesting\n",
            "amazing\n",
            "being\n",
            "served\n",
            "outshining\n",
            "starving\n",
            "coming\n",
            "walked\n",
            "stuffed\n",
            "considering\n",
            "located\n",
            "shopping\n",
            "nothing\n",
            "Cooked\n",
            "disappointed\n",
            "getting\n",
            "screwed\n",
            "frustrated\n",
            "iced\n",
            "stuffed\n",
            "disappointed\n",
            "trying\n",
            "grossed\n",
            "enjoyed\n",
            "eating\n",
            "going\n",
            "looked\n",
            "overwhelmed\n",
            "stayed\n",
            "everything\n",
            "smeared\n",
            "stepped\n",
            "tracked\n",
            "tried\n",
            "rushed\n",
            "loved\n",
            "Ordered\n",
            "Nothing\n",
            "cooked\n",
            "going\n",
            "insulted\n",
            "contained\n",
            "enjoyed\n",
            "relaxed\n",
            "loved\n",
            "outstanding\n",
            "running\n",
            "acknowledged\n",
            "forgetting\n",
            "upgrading\n",
            "trimmed\n",
            "cooked\n",
            "claimed\n",
            "handled\n",
            "asked\n",
            "eating\n",
            "bring\n",
            "hoping\n",
            "living\n",
            "limited\n",
            "boiled\n",
            "dining\n",
            "liked\n",
            "sliced\n",
            "attached\n",
            "humiliated\n",
            "filling\n",
            "fried\n",
            "amazing\n",
            "impressed\n",
            "disappointed\n",
            "priced\n",
            "Everything\n",
            "disappointed\n",
            "thing\n",
            "amazing\n",
            "need\n",
            "Everything\n",
            "interesting\n",
            "need\n",
            "experienced\n",
            "amazing\n",
            "amazing\n",
            "waited\n",
            "seated\n",
            "waiting\n",
            "going\n",
            "going\n",
            "dining\n",
            "decided\n",
            "pleased\n",
            "saving\n",
            "something\n",
            "trying\n",
            "disgusting\n",
            "hankering\n",
            "recommended\n",
            "being\n",
            "helped\n",
            "witnessed\n",
            "Waited\n",
            "waited\n",
            "waited\n",
            "checked\n",
            "tasted\n",
            "disappointed\n",
            "being\n",
            "served\n",
            "rated\n",
            "recommended\n",
            "pulled\n",
            "waited\n",
            "being\n",
            "acknowledged\n",
            "setting\n",
            "perpared\n",
            "dusted\n",
            "powdered\n",
            "enjoyed\n",
            "expanded\n",
            "sitting\n",
            "ended\n",
            "waiting\n",
            "arrived\n",
            "satisfying\n",
            "wanted\n",
            "disappointed\n",
            "eating\n",
            "need\n",
            "being\n",
            "freaking\n",
            "checked\n",
            "impressed\n",
            "reheated\n",
            "getting\n",
            "amazing\n",
            "tasted\n",
            "disappointing\n",
            "grilled\n",
            "seasoning\n",
            "going\n",
            "focused\n",
            "roasted\n",
            "asked\n",
            "being\n",
            "ignored\n",
            "bring\n",
            "letting\n",
            "tasted\n",
            "evening\n",
            "Ordered\n",
            "greeted\n",
            "seated\n",
            "Tried\n",
            "waiting\n",
            "being\n",
            "seated\n",
            "eating\n",
            "going\n",
            "Disappointed\n",
            "ordered\n",
            "constructed\n",
            "seating\n",
            "fried\n",
            "playing\n",
            "requested\n",
            "amazing\n",
            "staying\n",
            "used\n",
            "tasted\n",
            "giving\n",
            "talking\n",
            "amazing\n",
            "drenched\n",
            "amazing\n",
            "amazing\n",
            "tried\n",
            "walked\n",
            "expected\n",
            "amazing\n",
            "disappointed\n",
            "mortified\n",
            "filling\n",
            "dripping\n",
            "impressed\n",
            "going\n",
            "serving\n",
            "refrained\n",
            "recommending\n",
            "pleased\n",
            "thing\n",
            "reading\n",
            "loved\n",
            "grilled\n",
            "reminded\n",
            "seating\n",
            "sucked\n",
            "hooked\n",
            "ordered\n",
            "going\n",
            "disappointed\n",
            "everything\n",
            "seasoned\n",
            "thing\n",
            "added\n",
            "sitting\n",
            "waiting\n",
            "bring\n",
            "revisiting\n",
            "coming\n",
            "touched\n",
            "anything\n",
            "fried\n",
            "opened\n",
            "impressed\n",
            "feeling\n",
            "during\n",
            "watched\n",
            "thing\n",
            "being\n",
            "Tasted\n",
            "amazing\n",
            "being\n",
            "amazing\n",
            "ordered\n",
            "satifying\n",
            "describing\n",
            "coming\n",
            "everything\n",
            "received\n",
            "Paying\n",
            "going\n",
            "impressed\n",
            "overcooked\n",
            "cooked\n",
            "needed\n",
            "served\n",
            "thing\n",
            "ordered\n",
            "amazing\n",
            "overpriced\n",
            "packed\n",
            "getting\n",
            "opposed\n",
            "cramming\n",
            "priced\n",
            "surprised\n",
            "considering\n",
            "focused\n",
            "overpriced\n",
            "fucking\n",
            "tried\n",
            "enjoyed\n",
            "going\n",
            "qualified\n",
            "tasted\n",
            "hated\n",
            "appealing\n",
            "getting\n",
            "coming\n",
            "watched\n",
            "Everything\n",
            "fried\n",
            "dealing\n",
            "everything\n",
            "tried\n",
            "something\n",
            "during\n",
            "helped\n",
            "dining\n",
            "cooking\n",
            "dining\n",
            "started\n",
            "editing\n",
            "highlighted\n",
            "setting\n",
            "used\n",
            "amazing\n",
            "enjoyed\n",
            "ordered\n",
            "tasted\n",
            "asked\n",
            "refused\n",
            "tried\n",
            "rotating\n",
            "Pricing\n",
            "toasted\n",
            "satisfying\n",
            "anticipated\n",
            "disappointing\n",
            "amazing\n",
            "returning\n",
            "unexperienced\n",
            "running\n",
            "insulted\n",
            "disrespected\n",
            "being\n",
            "impressed\n",
            "thing\n",
            "puréed\n",
            "nothing\n",
            "poisoning\n",
            "thinking\n",
            "something\n",
            "going\n",
            "disgusting\n",
            "caring\n",
            "bring\n",
            "asked\n",
            "Disappointing\n",
            "rated\n",
            "saying\n",
            "going\n",
            "lacked\n",
            "coming\n",
            "sliced\n",
            "pulled\n",
            "building\n",
            "seating\n",
            "undercooked\n",
            "dipping\n",
            "seemed\n",
            "watered\n",
            "lacked\n",
            "disappointed\n",
            "overpriced\n",
            "setting\n",
            "ensued\n",
            "anything\n",
            "drinking\n",
            "serving\n",
            "disappointed\n",
            "placed\n",
            "avoided\n",
            "received\n",
            "wanted\n",
            "doing\n",
            "sucked\n",
            "happened\n",
            "putting\n",
            "owned\n",
            "wanted\n",
            "Overpriced\n",
            "getting\n",
            "vomited\n",
            "looking\n",
            "started\n",
            "coming\n",
            "unwrapped\n",
            "lacked\n",
            "seemed\n",
            "undercooked\n",
            "closed\n",
            "staying\n",
            "refried\n",
            "dried\n",
            "disappointed\n",
            "lacking\n",
            "impressed\n",
            "underwhelming\n",
            "wasted\n",
            "poured\n",
            "drawing\n",
            "bring\n"
          ]
        }
      ]
    },
    {
      "cell_type": "markdown",
      "source": [
        "#**Parte 3. Proceso de limpieza.**"
      ],
      "metadata": {
        "id": "70StdqAZa9E9"
      }
    },
    {
      "cell_type": "markdown",
      "source": [
        "*   **Pregunta 13.**  \n",
        "\n",
        "Ahora realiza un proceso de limpieza del corpus que incluya los siguientes procesos:\n",
        "\n",
        "*   Solo se deben considerar caracteres alfabéticos. Es decir, se eliminan todos los signos de puntuación y caracteres especiales.\n",
        "*   Todos los caracteres alfabéticos se transforman a minúsculas.\n",
        "*   Se deben eliminar todos los espacios en blanco adicionales que se puedan encontrar en cada comentario.\n",
        "\n",
        "Al finalizar dicho proceso de limpieza, imprime el resultado de los primeros 10 comentarios resultantes.\n",
        "   \n",
        "\n",
        "\n"
      ],
      "metadata": {
        "id": "xaDUFXHrMvX2"
      }
    },
    {
      "cell_type": "code",
      "source": [
        "# Eliminación de los signos de puntuación y normalización del texto\n",
        "\n",
        "# comentarios: Lista de comentarios que se van a limpiar y normalizar.\n",
        "# re.sub(r'[^\\w\\s]', '', comentario): Utiliza expresiones regulares para eliminar todos los signos de puntuación del comentario.\n",
        "# .lower(): Convierte todo el texto a minúsculas para una consistencia en el procesamiento.\n",
        "# .strip(): Elimina los espacios en blanco adicionales al principio y al final del texto.\n",
        "comentarios_limpios = [re.sub(r'[^\\w\\s]', '', comentario).lower().strip() for comentario in comentarios]\n"
      ],
      "metadata": {
        "id": "K3kQzPOPMx0w"
      },
      "execution_count": 220,
      "outputs": []
    },
    {
      "cell_type": "code",
      "source": [
        "#10 primeros resultados\n",
        "comentarios_limpios[:10]"
      ],
      "metadata": {
        "id": "O3bl4u8VHmp9",
        "outputId": "9caaa6ee-ebcb-4d4d-c77d-8fb8abf25e27",
        "colab": {
          "base_uri": "https://localhost:8080/"
        }
      },
      "execution_count": 221,
      "outputs": [
        {
          "output_type": "execute_result",
          "data": {
            "text/plain": [
              "['wow loved this place',\n",
              " 'crust is not good',\n",
              " 'not tasty and the texture was just nasty',\n",
              " 'stopped by during the late may bank holiday off rick steve recommendation and loved it',\n",
              " 'the selection on the menu was great and so were the prices',\n",
              " 'now i am getting angry and i want my damn pho',\n",
              " 'honeslty it didnt taste that fresh',\n",
              " 'the potatoes were like rubber and you could tell they had been made up ahead of time being kept under a warmer',\n",
              " 'the fries were great too',\n",
              " 'a great touch']"
            ]
          },
          "metadata": {},
          "execution_count": 221
        }
      ]
    },
    {
      "cell_type": "markdown",
      "source": [
        "*   **Pregunta 14.**  \n",
        "\n",
        "Con el resultado de la limpieza obtenido en la pregunta anterior, realiza ahora un proceso de tokenización por palabras del corpus.\n",
        "\n",
        "Es decir, al final de este proceso de tokenización, debes tener como resultado una lista de listas, donde cada comentario estará tokenizado por palabras.\n",
        "\n",
        "Al terminar calcula el total de tokens obtenido en todo el corpus."
      ],
      "metadata": {
        "id": "WZwEhg2lUSAX"
      }
    },
    {
      "cell_type": "code",
      "source": [
        "# Tokenización por palabras\n",
        "\n",
        "# comentarios_limpios: Lista de comentarios limpios y normalizados.\n",
        "# enunciado.split(): Divide cada comentario en palabras utilizando los espacios en blanco como delimitadores.\n",
        "# tokens_por_enunciado: Lista de listas que contiene los tokens de cada comentario.\n",
        "tokens_por_enunciado = [enunciado.split() for enunciado in comentarios_limpios]\n",
        "\n",
        "# Imprimir los tokens de los primeros 10 comentarios\n",
        "for lista in tokens_por_enunciado[:10]:\n",
        "    print(lista)\n"
      ],
      "metadata": {
        "id": "8HSi_oduMK5o",
        "outputId": "d45a2fc3-c5f5-4c5c-ed19-4698b00ed825",
        "colab": {
          "base_uri": "https://localhost:8080/"
        }
      },
      "execution_count": 222,
      "outputs": [
        {
          "output_type": "stream",
          "name": "stdout",
          "text": [
            "['wow', 'loved', 'this', 'place']\n",
            "['crust', 'is', 'not', 'good']\n",
            "['not', 'tasty', 'and', 'the', 'texture', 'was', 'just', 'nasty']\n",
            "['stopped', 'by', 'during', 'the', 'late', 'may', 'bank', 'holiday', 'off', 'rick', 'steve', 'recommendation', 'and', 'loved', 'it']\n",
            "['the', 'selection', 'on', 'the', 'menu', 'was', 'great', 'and', 'so', 'were', 'the', 'prices']\n",
            "['now', 'i', 'am', 'getting', 'angry', 'and', 'i', 'want', 'my', 'damn', 'pho']\n",
            "['honeslty', 'it', 'didnt', 'taste', 'that', 'fresh']\n",
            "['the', 'potatoes', 'were', 'like', 'rubber', 'and', 'you', 'could', 'tell', 'they', 'had', 'been', 'made', 'up', 'ahead', 'of', 'time', 'being', 'kept', 'under', 'a', 'warmer']\n",
            "['the', 'fries', 'were', 'great', 'too']\n",
            "['a', 'great', 'touch']\n"
          ]
        }
      ]
    },
    {
      "cell_type": "code",
      "source": [
        "# Cálculo del total de tokens\n",
        "\n",
        "# tokens_por_enunciado: Lista de listas que contiene los tokens de cada comentario.\n",
        "# len(tokens) for tokens in tokens_por_enunciado: Calcula la longitud de cada lista de tokens en tokens_por_enunciado.\n",
        "# sum(...): Suma todas las longitudes de las listas de tokens para obtener el total de tokens.\n",
        "total_tokens = sum(len(tokens) for tokens in tokens_por_enunciado)\n",
        "\n",
        "# Imprimir el total de tokens\n",
        "print('Tokens totales:', total_tokens)"
      ],
      "metadata": {
        "id": "DZs_etmiV-fd",
        "outputId": "b423e008-6a47-4d24-f718-b5880f59681e",
        "colab": {
          "base_uri": "https://localhost:8080/"
        }
      },
      "execution_count": 223,
      "outputs": [
        {
          "output_type": "stream",
          "name": "stdout",
          "text": [
            "Tokens totales: 10846\n"
          ]
        }
      ]
    },
    {
      "cell_type": "markdown",
      "source": [
        "*   **Pregunta 15.**  \n",
        "\n",
        "Finalmente, en este ejercicio definiremos nuestro conjunto de palabras \"stopwords\", las cuales deberás eliminar de todo el corpus.\n",
        "\n",
        "Recuerda que ejemplos de stopwords son artículos, adverbios, conectivos, etcétera, que tienen frecuencias de aparición muy altas en cualquier documento, pero que no brindan mucho significado en cuanto al significado de un enunciado.\n",
        "\n",
        "Con base a la lista de stopwords que se te proporciona, realiza un proceso de limpieza eliminando todas estas palabras del corpus obtenido en el ejercicio anterior.\n",
        "\n",
        "Obtener cuántos tokens/palabras quedan finalmente en todo el corpus.\n",
        "\n",
        "Obtener cuántos de estos tokens/palabras son diferentes, es decir, cuántos tokens únicos tendrá lo que llamaremos más adelante nuestro vocabulario."
      ],
      "metadata": {
        "id": "EFeu0OJ7WDPD"
      }
    },
    {
      "cell_type": "code",
      "source": [
        "# Considera la siguiente lista como tu conjunto de stopwords:\n",
        "mis_stopwords = ['i', 'me', 'my', 'myself', 'we', 'our', 'ours', 'ourselves', 'you', 'your', 'yours', 'he', 'him', 'his', 'himself', 'she', 'her', 'hers', 'herself', 'it', 'its', 'itself', 'they', 'them', 'their', 'theirs', 'themselves', 'what', 'which', 'who', 'whom', 'this', 'that', 'these', 'those', 'am', 'is', 'are', 'was', 'were', 'be', 'been', 'being', 'have', 'has', 'had', 'having', 'do', 'does', 'did', 'doing', 'a', 'an', 'the', 'and', 'but', 'if', 'or', 'because', 'as', 'until', 'while', 'of', 'at', 'by', 'for', 'with', 'about', 'against', 'between', 'into', 'through', 'during', 'before', 'after', 'above', 'below', 'to', 'from', 'up', 'down', 'in', 'out', 'on', 'over', 'under', 'again', 'further', 'then', 'once', 'here', 'there', 'when', 'where', 'why', 'how', 'all', 'any', 'both', 'each', 'few', 'more', 'most', 'other', 'some', 'such', 'only', 'own', 'same', 'so', 'than', 'too', 'very', 's', 't', 'can', 'will', 'just', 'should', 'now', 'll']"
      ],
      "metadata": {
        "id": "6FP4FF3KXGxm"
      },
      "execution_count": 224,
      "outputs": []
    },
    {
      "cell_type": "code",
      "source": [
        "# Eliminación de stop words\n",
        "# Filtra los tokens que no están en la lista de stop words, convirtiendo primero el token a minúsculas para una comparación insensible a mayúsculas y minúsculas.\n",
        "tokens_sin_stopwords = [[token for token in tokens if token.lower() not in mis_stopwords] for tokens in tokens_por_enunciado]\n",
        "\n",
        "# Imprimir los tokens sin stop words\n",
        "for lista in tokens_sin_stopwords[:10]:\n",
        "    print(lista)\n",
        "\n"
      ],
      "metadata": {
        "id": "CD8yjyq1ZrwY",
        "outputId": "9ec1a0bf-5790-4907-f00d-b6feb9424cf1",
        "colab": {
          "base_uri": "https://localhost:8080/"
        }
      },
      "execution_count": 225,
      "outputs": [
        {
          "output_type": "stream",
          "name": "stdout",
          "text": [
            "['wow', 'loved', 'place']\n",
            "['crust', 'not', 'good']\n",
            "['not', 'tasty', 'texture', 'nasty']\n",
            "['stopped', 'late', 'may', 'bank', 'holiday', 'off', 'rick', 'steve', 'recommendation', 'loved']\n",
            "['selection', 'menu', 'great', 'prices']\n",
            "['getting', 'angry', 'want', 'damn', 'pho']\n",
            "['honeslty', 'didnt', 'taste', 'fresh']\n",
            "['potatoes', 'like', 'rubber', 'could', 'tell', 'made', 'ahead', 'time', 'kept', 'warmer']\n",
            "['fries', 'great']\n",
            "['great', 'touch']\n"
          ]
        }
      ]
    },
    {
      "cell_type": "code",
      "source": [
        "# Cálculo del total de tokens en el corpus después de eliminar las stop words\n",
        "\n",
        "# tokens_sin_stopwords: Lista de listas que contiene los tokens de cada comentario después de eliminar las stop words.\n",
        "total_tokens = sum(len(tokens) for tokens in tokens_sin_stopwords)\n",
        "\n",
        "# Imprimir el total de tokens en el corpus después de eliminar las stop words\n",
        "print('Tokens totales sin stop words:', total_tokens)\n"
      ],
      "metadata": {
        "id": "4ZPi5prKZro5",
        "outputId": "0c568bf0-77ea-48c6-fa95-479a1f92aa82",
        "colab": {
          "base_uri": "https://localhost:8080/"
        }
      },
      "execution_count": 226,
      "outputs": [
        {
          "output_type": "stream",
          "name": "stdout",
          "text": [
            "Tokens totales sin stop words: 5846\n"
          ]
        }
      ]
    },
    {
      "cell_type": "markdown",
      "source": [
        "*   **Comentarios**\n",
        "\n",
        "Incluye finalmente tus comentarios de la actividad."
      ],
      "metadata": {
        "id": "NDbKkuxRbLoX"
      }
    },
    {
      "cell_type": "markdown",
      "source": [
        "# **Comentarios  finales**\n",
        "\n",
        "\n",
        "En conclusión, las expresiones regulares, aunque poderosas, pueden resultar difíciles de depurar y desarrollar. Si bien ofrecen una forma eficaz de buscar y manipular patrones de texto, su complejidad puede dificultar el proceso de depuración y desarrollo, y si no se tiene cuidado pueden eliminar o introducuir resultados no deseados en el texto procesado. Si se tiene en cuenta que en la mayoria de los casos los modelos de NLP emplean grandes cantidaded de texto, los resultados pueden verse afectados de manera muy negativa. Por lo que es fundamental combinar el procesamiento de texto con técnicas de limpieza para validar los datos antes de alimentar modelos de NLP. Además, es posible integrar software de extracción, transformación y carga (ETL) para obtener los datos de manera más inmediata y de diversas fuentes.\n",
        "\n",
        "Dado que los datos suelen ser no estructurados, tanto la limpieza de los datos como el preprocesamientos mismos deben realizarse con sumo cuidado. Por ejemplo, la selección de stop words puede tener un impacto significativo en los resultados de los modelos. por lo que se requiere tener una idea muy clara de cual sera el destino de los datos procesados.\n",
        "\n"
      ],
      "metadata": {
        "id": "o7fzbvqVbUGr"
      }
    },
    {
      "cell_type": "markdown",
      "source": [
        "##**Fin de la Actividad de la semana 2.**"
      ],
      "metadata": {
        "id": "PHaKw_6Ldbaf"
      }
    }
  ]
}